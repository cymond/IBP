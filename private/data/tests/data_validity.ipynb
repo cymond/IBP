{
 "cells": [
  {
   "cell_type": "code",
   "execution_count": 15,
   "metadata": {
    "collapsed": true
   },
   "outputs": [
    {
     "name": "stdout",
     "output_type": "stream",
     "text": [
      "        DATETIME   PRICE\n9125  2016-09-19  337.25\n9126  2016-09-20  340.50\n9127  2016-09-21  340.00\n9128  2016-09-22  336.75\n9129  2016-09-23  336.50\n9130  2016-09-26  329.00\n             PRICE\nDATETIME          \n2016-09-16  337.00\n2016-09-19  337.25\n2016-09-20  340.50\n2016-09-21  340.00\n2016-09-22  336.75\n2016-09-23  336.50\n2016-09-26  329.00\n"
     ]
    }
   ],
   "source": [
    "import pandas as pd\n",
    "\n",
    "data_df = pd.read_csv('/home/pete/pysystemtrade/sysdata/legacycsv/CORN_price.csv')\n",
    "new_df = data_df.set_index('DATETIME').copy()\n",
    "print(data_df.tail(6))\n",
    "print(new_df.tail(7))"
   ]
  },
  {
   "cell_type": "code",
   "execution_count": 11,
   "metadata": {},
   "outputs": [
    {
     "name": "stdout",
     "output_type": "stream",
     "text": [
      "        DATETIME   PRICE\n9126  2016-09-20  340.50\n9127  2016-09-21  340.00\n9128  2016-09-22  336.75\n9129  2016-09-23  336.50\n9130  2016-09-26  329.00\n"
     ]
    }
   ],
   "source": [
    "print(data_df.tail(5))"
   ]
  },
  {
   "cell_type": "code",
   "execution_count": 17,
   "metadata": {},
   "outputs": [
    {
     "name": "stdout",
     "output_type": "stream",
     "text": [
      "True\n"
     ]
    }
   ],
   "source": [
    "print(data_df.index.is_unique)"
   ]
  },
  {
   "cell_type": "code",
   "execution_count": null,
   "metadata": {},
   "outputs": [],
   "source": [
    "print(new_df.index.is_unique)"
   ]
  },
  {
   "cell_type": "code",
   "execution_count": null,
   "metadata": {},
   "outputs": [],
   "source": [
    ""
   ]
  }
 ],
 "metadata": {
  "kernelspec": {
   "display_name": "Python 2",
   "language": "python",
   "name": "python2"
  },
  "language_info": {
   "codemirror_mode": {
    "name": "ipython",
    "version": 2.0
   },
   "file_extension": ".py",
   "mimetype": "text/x-python",
   "name": "python",
   "nbconvert_exporter": "python",
   "pygments_lexer": "ipython2",
   "version": "2.7.6"
  }
 },
 "nbformat": 4,
 "nbformat_minor": 0
}